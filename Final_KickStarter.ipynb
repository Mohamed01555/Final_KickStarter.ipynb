{
 "cells": [
  {
   "cell_type": "code",
   "execution_count": 191,
   "metadata": {},
   "outputs": [
    {
     "name": "stderr",
     "output_type": "stream",
     "text": [
      "/home/mohamedalgebali/anaconda3/lib/python3.7/site-packages/IPython/core/interactiveshell.py:3063: DtypeWarning: Columns (13,14,15) have mixed types.Specify dtype option on import or set low_memory=False.\n",
      "  interactivity=interactivity, compiler=compiler, result=result)\n"
     ]
    },
    {
     "data": {
      "text/html": [
       "<div>\n",
       "<style scoped>\n",
       "    .dataframe tbody tr th:only-of-type {\n",
       "        vertical-align: middle;\n",
       "    }\n",
       "\n",
       "    .dataframe tbody tr th {\n",
       "        vertical-align: top;\n",
       "    }\n",
       "\n",
       "    .dataframe thead th {\n",
       "        text-align: right;\n",
       "    }\n",
       "</style>\n",
       "<table border=\"1\" class=\"dataframe\">\n",
       "  <thead>\n",
       "    <tr style=\"text-align: right;\">\n",
       "      <th></th>\n",
       "      <th>ID</th>\n",
       "      <th>name</th>\n",
       "      <th>category</th>\n",
       "      <th>main_category</th>\n",
       "      <th>currency</th>\n",
       "      <th>deadline</th>\n",
       "      <th>goal</th>\n",
       "      <th>launched</th>\n",
       "      <th>pledged</th>\n",
       "      <th>state</th>\n",
       "      <th>backers</th>\n",
       "      <th>country</th>\n",
       "      <th>usd pledged</th>\n",
       "      <th>Unnamed: 13</th>\n",
       "      <th>Unnamed: 14</th>\n",
       "      <th>Unnamed: 15</th>\n",
       "      <th>Unnamed: 16</th>\n",
       "    </tr>\n",
       "  </thead>\n",
       "  <tbody>\n",
       "    <tr>\n",
       "      <th>0</th>\n",
       "      <td>1000002330</td>\n",
       "      <td>The Songs of Adelaide &amp; Abullah</td>\n",
       "      <td>Poetry</td>\n",
       "      <td>Publishing</td>\n",
       "      <td>GBP</td>\n",
       "      <td>2015-10-09 11:36:00</td>\n",
       "      <td>1000</td>\n",
       "      <td>2015-08-11 12:12:28</td>\n",
       "      <td>0</td>\n",
       "      <td>failed</td>\n",
       "      <td>0</td>\n",
       "      <td>GB</td>\n",
       "      <td>0</td>\n",
       "      <td>NaN</td>\n",
       "      <td>NaN</td>\n",
       "      <td>NaN</td>\n",
       "      <td>NaN</td>\n",
       "    </tr>\n",
       "    <tr>\n",
       "      <th>1</th>\n",
       "      <td>1000004038</td>\n",
       "      <td>Where is Hank?</td>\n",
       "      <td>Narrative Film</td>\n",
       "      <td>Film &amp; Video</td>\n",
       "      <td>USD</td>\n",
       "      <td>2013-02-26 00:20:50</td>\n",
       "      <td>45000</td>\n",
       "      <td>2013-01-12 00:20:50</td>\n",
       "      <td>220</td>\n",
       "      <td>failed</td>\n",
       "      <td>3</td>\n",
       "      <td>US</td>\n",
       "      <td>220</td>\n",
       "      <td>NaN</td>\n",
       "      <td>NaN</td>\n",
       "      <td>NaN</td>\n",
       "      <td>NaN</td>\n",
       "    </tr>\n",
       "    <tr>\n",
       "      <th>2</th>\n",
       "      <td>1000007540</td>\n",
       "      <td>ToshiCapital Rekordz Needs Help to Complete Album</td>\n",
       "      <td>Music</td>\n",
       "      <td>Music</td>\n",
       "      <td>USD</td>\n",
       "      <td>2012-04-16 04:24:11</td>\n",
       "      <td>5000</td>\n",
       "      <td>2012-03-17 03:24:11</td>\n",
       "      <td>1</td>\n",
       "      <td>failed</td>\n",
       "      <td>1</td>\n",
       "      <td>US</td>\n",
       "      <td>1</td>\n",
       "      <td>NaN</td>\n",
       "      <td>NaN</td>\n",
       "      <td>NaN</td>\n",
       "      <td>NaN</td>\n",
       "    </tr>\n",
       "    <tr>\n",
       "      <th>3</th>\n",
       "      <td>1000011046</td>\n",
       "      <td>Community Film Project: The Art of Neighborhoo...</td>\n",
       "      <td>Film &amp; Video</td>\n",
       "      <td>Film &amp; Video</td>\n",
       "      <td>USD</td>\n",
       "      <td>2015-08-29 01:00:00</td>\n",
       "      <td>19500</td>\n",
       "      <td>2015-07-04 08:35:03</td>\n",
       "      <td>1283</td>\n",
       "      <td>canceled</td>\n",
       "      <td>14</td>\n",
       "      <td>US</td>\n",
       "      <td>1283</td>\n",
       "      <td>NaN</td>\n",
       "      <td>NaN</td>\n",
       "      <td>NaN</td>\n",
       "      <td>NaN</td>\n",
       "    </tr>\n",
       "    <tr>\n",
       "      <th>4</th>\n",
       "      <td>1000014025</td>\n",
       "      <td>Monarch Espresso Bar</td>\n",
       "      <td>Restaurants</td>\n",
       "      <td>Food</td>\n",
       "      <td>USD</td>\n",
       "      <td>2016-04-01 13:38:27</td>\n",
       "      <td>50000</td>\n",
       "      <td>2016-02-26 13:38:27</td>\n",
       "      <td>52375</td>\n",
       "      <td>successful</td>\n",
       "      <td>224</td>\n",
       "      <td>US</td>\n",
       "      <td>52375</td>\n",
       "      <td>NaN</td>\n",
       "      <td>NaN</td>\n",
       "      <td>NaN</td>\n",
       "      <td>NaN</td>\n",
       "    </tr>\n",
       "  </tbody>\n",
       "</table>\n",
       "</div>"
      ],
      "text/plain": [
       "          ID                                               name   \\\n",
       "0  1000002330                    The Songs of Adelaide & Abullah   \n",
       "1  1000004038                                     Where is Hank?   \n",
       "2  1000007540  ToshiCapital Rekordz Needs Help to Complete Album   \n",
       "3  1000011046  Community Film Project: The Art of Neighborhoo...   \n",
       "4  1000014025                               Monarch Espresso Bar   \n",
       "\n",
       "        category  main_category  currency             deadline   goal   \\\n",
       "0          Poetry     Publishing       GBP  2015-10-09 11:36:00   1000   \n",
       "1  Narrative Film   Film & Video       USD  2013-02-26 00:20:50  45000   \n",
       "2           Music          Music       USD  2012-04-16 04:24:11   5000   \n",
       "3    Film & Video   Film & Video       USD  2015-08-29 01:00:00  19500   \n",
       "4     Restaurants           Food       USD  2016-04-01 13:38:27  50000   \n",
       "\n",
       "             launched  pledged       state  backers  country  usd pledged   \\\n",
       "0  2015-08-11 12:12:28        0      failed        0       GB            0   \n",
       "1  2013-01-12 00:20:50      220      failed        3       US          220   \n",
       "2  2012-03-17 03:24:11        1      failed        1       US            1   \n",
       "3  2015-07-04 08:35:03     1283    canceled       14       US         1283   \n",
       "4  2016-02-26 13:38:27    52375  successful      224       US        52375   \n",
       "\n",
       "  Unnamed: 13 Unnamed: 14 Unnamed: 15  Unnamed: 16  \n",
       "0         NaN         NaN         NaN          NaN  \n",
       "1         NaN         NaN         NaN          NaN  \n",
       "2         NaN         NaN         NaN          NaN  \n",
       "3         NaN         NaN         NaN          NaN  \n",
       "4         NaN         NaN         NaN          NaN  "
      ]
     },
     "execution_count": 191,
     "metadata": {},
     "output_type": "execute_result"
    }
   ],
   "source": [
    "import pandas as pd\n",
    "\n",
    "dataset = pd.read_csv('../dataset/ks-projects-201612.csv',encoding='latin')\n",
    "dataset.head()"
   ]
  },
  {
   "cell_type": "code",
   "execution_count": 192,
   "metadata": {},
   "outputs": [
    {
     "data": {
      "text/plain": [
       "Film & Video    57679\n",
       "Music           46744\n",
       "Publishing      34233\n",
       "Games           28008\n",
       "Technology      26128\n",
       "                ...  \n",
       "People              1\n",
       "Flight              1\n",
       "Kids                1\n",
       "Wearables           1\n",
       " soccer             1\n",
       "Name: main_category , Length: 120, dtype: int64"
      ]
     },
     "execution_count": 192,
     "metadata": {},
     "output_type": "execute_result"
    }
   ],
   "source": [
    "dataset['main_category '].value_counts()"
   ]
  },
  {
   "cell_type": "code",
   "execution_count": 193,
   "metadata": {},
   "outputs": [],
   "source": [
    "dataset = dataset.drop(['country ','currency ','ID ','name ','category ','Unnamed: 13','Unnamed: 14','Unnamed: 15','Unnamed: 16','usd pledged '],axis=1)"
   ]
  },
  {
   "cell_type": "code",
   "execution_count": 194,
   "metadata": {},
   "outputs": [
    {
     "data": {
      "text/html": [
       "<div>\n",
       "<style scoped>\n",
       "    .dataframe tbody tr th:only-of-type {\n",
       "        vertical-align: middle;\n",
       "    }\n",
       "\n",
       "    .dataframe tbody tr th {\n",
       "        vertical-align: top;\n",
       "    }\n",
       "\n",
       "    .dataframe thead th {\n",
       "        text-align: right;\n",
       "    }\n",
       "</style>\n",
       "<table border=\"1\" class=\"dataframe\">\n",
       "  <thead>\n",
       "    <tr style=\"text-align: right;\">\n",
       "      <th></th>\n",
       "      <th>main_category</th>\n",
       "      <th>deadline</th>\n",
       "      <th>goal</th>\n",
       "      <th>launched</th>\n",
       "      <th>pledged</th>\n",
       "      <th>state</th>\n",
       "      <th>backers</th>\n",
       "    </tr>\n",
       "  </thead>\n",
       "  <tbody>\n",
       "    <tr>\n",
       "      <th>0</th>\n",
       "      <td>Publishing</td>\n",
       "      <td>2015-10-09 11:36:00</td>\n",
       "      <td>1000</td>\n",
       "      <td>2015-08-11 12:12:28</td>\n",
       "      <td>0</td>\n",
       "      <td>failed</td>\n",
       "      <td>0</td>\n",
       "    </tr>\n",
       "    <tr>\n",
       "      <th>1</th>\n",
       "      <td>Film &amp; Video</td>\n",
       "      <td>2013-02-26 00:20:50</td>\n",
       "      <td>45000</td>\n",
       "      <td>2013-01-12 00:20:50</td>\n",
       "      <td>220</td>\n",
       "      <td>failed</td>\n",
       "      <td>3</td>\n",
       "    </tr>\n",
       "    <tr>\n",
       "      <th>2</th>\n",
       "      <td>Music</td>\n",
       "      <td>2012-04-16 04:24:11</td>\n",
       "      <td>5000</td>\n",
       "      <td>2012-03-17 03:24:11</td>\n",
       "      <td>1</td>\n",
       "      <td>failed</td>\n",
       "      <td>1</td>\n",
       "    </tr>\n",
       "    <tr>\n",
       "      <th>3</th>\n",
       "      <td>Film &amp; Video</td>\n",
       "      <td>2015-08-29 01:00:00</td>\n",
       "      <td>19500</td>\n",
       "      <td>2015-07-04 08:35:03</td>\n",
       "      <td>1283</td>\n",
       "      <td>canceled</td>\n",
       "      <td>14</td>\n",
       "    </tr>\n",
       "    <tr>\n",
       "      <th>4</th>\n",
       "      <td>Food</td>\n",
       "      <td>2016-04-01 13:38:27</td>\n",
       "      <td>50000</td>\n",
       "      <td>2016-02-26 13:38:27</td>\n",
       "      <td>52375</td>\n",
       "      <td>successful</td>\n",
       "      <td>224</td>\n",
       "    </tr>\n",
       "    <tr>\n",
       "      <th>...</th>\n",
       "      <td>...</td>\n",
       "      <td>...</td>\n",
       "      <td>...</td>\n",
       "      <td>...</td>\n",
       "      <td>...</td>\n",
       "      <td>...</td>\n",
       "      <td>...</td>\n",
       "    </tr>\n",
       "    <tr>\n",
       "      <th>323745</th>\n",
       "      <td>Film &amp; Video</td>\n",
       "      <td>2014-10-17 02:35:30</td>\n",
       "      <td>50000</td>\n",
       "      <td>2014-09-17 02:35:30</td>\n",
       "      <td>25</td>\n",
       "      <td>canceled</td>\n",
       "      <td>1</td>\n",
       "    </tr>\n",
       "    <tr>\n",
       "      <th>323746</th>\n",
       "      <td>Film &amp; Video</td>\n",
       "      <td>2011-07-19 03:35:14</td>\n",
       "      <td>1500</td>\n",
       "      <td>2011-06-22 03:35:14</td>\n",
       "      <td>155</td>\n",
       "      <td>failed</td>\n",
       "      <td>5</td>\n",
       "    </tr>\n",
       "    <tr>\n",
       "      <th>323747</th>\n",
       "      <td>Film &amp; Video</td>\n",
       "      <td>2010-08-16 05:59:00</td>\n",
       "      <td>15000</td>\n",
       "      <td>2010-07-01 19:40:30</td>\n",
       "      <td>20</td>\n",
       "      <td>failed</td>\n",
       "      <td>1</td>\n",
       "    </tr>\n",
       "    <tr>\n",
       "      <th>323748</th>\n",
       "      <td>Technology</td>\n",
       "      <td>2016-02-13 02:00:00</td>\n",
       "      <td>15000</td>\n",
       "      <td>2016-01-13 18:13:53</td>\n",
       "      <td>200</td>\n",
       "      <td>failed</td>\n",
       "      <td>6</td>\n",
       "    </tr>\n",
       "    <tr>\n",
       "      <th>323749</th>\n",
       "      <td>Art</td>\n",
       "      <td>2011-08-16 09:07:47</td>\n",
       "      <td>2000</td>\n",
       "      <td>2011-07-19 09:07:47</td>\n",
       "      <td>524</td>\n",
       "      <td>failed</td>\n",
       "      <td>17</td>\n",
       "    </tr>\n",
       "  </tbody>\n",
       "</table>\n",
       "<p>323750 rows × 7 columns</p>\n",
       "</div>"
      ],
      "text/plain": [
       "       main_category             deadline   goal             launched   \\\n",
       "0          Publishing  2015-10-09 11:36:00   1000  2015-08-11 12:12:28   \n",
       "1        Film & Video  2013-02-26 00:20:50  45000  2013-01-12 00:20:50   \n",
       "2               Music  2012-04-16 04:24:11   5000  2012-03-17 03:24:11   \n",
       "3        Film & Video  2015-08-29 01:00:00  19500  2015-07-04 08:35:03   \n",
       "4                Food  2016-04-01 13:38:27  50000  2016-02-26 13:38:27   \n",
       "...               ...                  ...    ...                  ...   \n",
       "323745   Film & Video  2014-10-17 02:35:30  50000  2014-09-17 02:35:30   \n",
       "323746   Film & Video  2011-07-19 03:35:14   1500  2011-06-22 03:35:14   \n",
       "323747   Film & Video  2010-08-16 05:59:00  15000  2010-07-01 19:40:30   \n",
       "323748     Technology  2016-02-13 02:00:00  15000  2016-01-13 18:13:53   \n",
       "323749            Art  2011-08-16 09:07:47   2000  2011-07-19 09:07:47   \n",
       "\n",
       "       pledged       state  backers   \n",
       "0             0      failed        0  \n",
       "1           220      failed        3  \n",
       "2             1      failed        1  \n",
       "3          1283    canceled       14  \n",
       "4         52375  successful      224  \n",
       "...         ...         ...      ...  \n",
       "323745       25    canceled        1  \n",
       "323746      155      failed        5  \n",
       "323747       20      failed        1  \n",
       "323748      200      failed        6  \n",
       "323749      524      failed       17  \n",
       "\n",
       "[323750 rows x 7 columns]"
      ]
     },
     "execution_count": 194,
     "metadata": {},
     "output_type": "execute_result"
    }
   ],
   "source": [
    "dataset"
   ]
  },
  {
   "cell_type": "code",
   "execution_count": 195,
   "metadata": {},
   "outputs": [],
   "source": [
    "dataset['goal '] = dataset['goal '].str.replace(r'[^0-9]','0') #must be '0' not 0\n",
    "dataset['goal '] = dataset['goal '].astype(float)"
   ]
  },
  {
   "cell_type": "code",
   "execution_count": 196,
   "metadata": {},
   "outputs": [],
   "source": [
    "dataset['pledged '] = dataset['pledged '].str.replace(r'[^0-9]','0')\n",
    "dataset['pledged '] = dataset['pledged '].astype(float)"
   ]
  },
  {
   "cell_type": "code",
   "execution_count": 197,
   "metadata": {},
   "outputs": [
    {
     "data": {
      "text/html": [
       "<div>\n",
       "<style scoped>\n",
       "    .dataframe tbody tr th:only-of-type {\n",
       "        vertical-align: middle;\n",
       "    }\n",
       "\n",
       "    .dataframe tbody tr th {\n",
       "        vertical-align: top;\n",
       "    }\n",
       "\n",
       "    .dataframe thead th {\n",
       "        text-align: right;\n",
       "    }\n",
       "</style>\n",
       "<table border=\"1\" class=\"dataframe\">\n",
       "  <thead>\n",
       "    <tr style=\"text-align: right;\">\n",
       "      <th></th>\n",
       "      <th>main_category</th>\n",
       "      <th>deadline</th>\n",
       "      <th>goal</th>\n",
       "      <th>launched</th>\n",
       "      <th>pledged</th>\n",
       "      <th>state</th>\n",
       "      <th>backers</th>\n",
       "    </tr>\n",
       "  </thead>\n",
       "  <tbody>\n",
       "    <tr>\n",
       "      <th>0</th>\n",
       "      <td>Publishing</td>\n",
       "      <td>2015-10-09 11:36:00</td>\n",
       "      <td>1000.0</td>\n",
       "      <td>2015-08-11 12:12:28</td>\n",
       "      <td>0.0</td>\n",
       "      <td>failed</td>\n",
       "      <td>0</td>\n",
       "    </tr>\n",
       "    <tr>\n",
       "      <th>1</th>\n",
       "      <td>Film &amp; Video</td>\n",
       "      <td>2013-02-26 00:20:50</td>\n",
       "      <td>45000.0</td>\n",
       "      <td>2013-01-12 00:20:50</td>\n",
       "      <td>220.0</td>\n",
       "      <td>failed</td>\n",
       "      <td>3</td>\n",
       "    </tr>\n",
       "    <tr>\n",
       "      <th>2</th>\n",
       "      <td>Music</td>\n",
       "      <td>2012-04-16 04:24:11</td>\n",
       "      <td>5000.0</td>\n",
       "      <td>2012-03-17 03:24:11</td>\n",
       "      <td>1.0</td>\n",
       "      <td>failed</td>\n",
       "      <td>1</td>\n",
       "    </tr>\n",
       "    <tr>\n",
       "      <th>3</th>\n",
       "      <td>Film &amp; Video</td>\n",
       "      <td>2015-08-29 01:00:00</td>\n",
       "      <td>19500.0</td>\n",
       "      <td>2015-07-04 08:35:03</td>\n",
       "      <td>1283.0</td>\n",
       "      <td>canceled</td>\n",
       "      <td>14</td>\n",
       "    </tr>\n",
       "    <tr>\n",
       "      <th>4</th>\n",
       "      <td>Food</td>\n",
       "      <td>2016-04-01 13:38:27</td>\n",
       "      <td>50000.0</td>\n",
       "      <td>2016-02-26 13:38:27</td>\n",
       "      <td>52375.0</td>\n",
       "      <td>successful</td>\n",
       "      <td>224</td>\n",
       "    </tr>\n",
       "    <tr>\n",
       "      <th>...</th>\n",
       "      <td>...</td>\n",
       "      <td>...</td>\n",
       "      <td>...</td>\n",
       "      <td>...</td>\n",
       "      <td>...</td>\n",
       "      <td>...</td>\n",
       "      <td>...</td>\n",
       "    </tr>\n",
       "    <tr>\n",
       "      <th>323745</th>\n",
       "      <td>Film &amp; Video</td>\n",
       "      <td>2014-10-17 02:35:30</td>\n",
       "      <td>50000.0</td>\n",
       "      <td>2014-09-17 02:35:30</td>\n",
       "      <td>25.0</td>\n",
       "      <td>canceled</td>\n",
       "      <td>1</td>\n",
       "    </tr>\n",
       "    <tr>\n",
       "      <th>323746</th>\n",
       "      <td>Film &amp; Video</td>\n",
       "      <td>2011-07-19 03:35:14</td>\n",
       "      <td>1500.0</td>\n",
       "      <td>2011-06-22 03:35:14</td>\n",
       "      <td>155.0</td>\n",
       "      <td>failed</td>\n",
       "      <td>5</td>\n",
       "    </tr>\n",
       "    <tr>\n",
       "      <th>323747</th>\n",
       "      <td>Film &amp; Video</td>\n",
       "      <td>2010-08-16 05:59:00</td>\n",
       "      <td>15000.0</td>\n",
       "      <td>2010-07-01 19:40:30</td>\n",
       "      <td>20.0</td>\n",
       "      <td>failed</td>\n",
       "      <td>1</td>\n",
       "    </tr>\n",
       "    <tr>\n",
       "      <th>323748</th>\n",
       "      <td>Technology</td>\n",
       "      <td>2016-02-13 02:00:00</td>\n",
       "      <td>15000.0</td>\n",
       "      <td>2016-01-13 18:13:53</td>\n",
       "      <td>200.0</td>\n",
       "      <td>failed</td>\n",
       "      <td>6</td>\n",
       "    </tr>\n",
       "    <tr>\n",
       "      <th>323749</th>\n",
       "      <td>Art</td>\n",
       "      <td>2011-08-16 09:07:47</td>\n",
       "      <td>2000.0</td>\n",
       "      <td>2011-07-19 09:07:47</td>\n",
       "      <td>524.0</td>\n",
       "      <td>failed</td>\n",
       "      <td>17</td>\n",
       "    </tr>\n",
       "  </tbody>\n",
       "</table>\n",
       "<p>323750 rows × 7 columns</p>\n",
       "</div>"
      ],
      "text/plain": [
       "       main_category             deadline     goal             launched   \\\n",
       "0          Publishing  2015-10-09 11:36:00   1000.0  2015-08-11 12:12:28   \n",
       "1        Film & Video  2013-02-26 00:20:50  45000.0  2013-01-12 00:20:50   \n",
       "2               Music  2012-04-16 04:24:11   5000.0  2012-03-17 03:24:11   \n",
       "3        Film & Video  2015-08-29 01:00:00  19500.0  2015-07-04 08:35:03   \n",
       "4                Food  2016-04-01 13:38:27  50000.0  2016-02-26 13:38:27   \n",
       "...               ...                  ...      ...                  ...   \n",
       "323745   Film & Video  2014-10-17 02:35:30  50000.0  2014-09-17 02:35:30   \n",
       "323746   Film & Video  2011-07-19 03:35:14   1500.0  2011-06-22 03:35:14   \n",
       "323747   Film & Video  2010-08-16 05:59:00  15000.0  2010-07-01 19:40:30   \n",
       "323748     Technology  2016-02-13 02:00:00  15000.0  2016-01-13 18:13:53   \n",
       "323749            Art  2011-08-16 09:07:47   2000.0  2011-07-19 09:07:47   \n",
       "\n",
       "        pledged       state  backers   \n",
       "0            0.0      failed        0  \n",
       "1          220.0      failed        3  \n",
       "2            1.0      failed        1  \n",
       "3         1283.0    canceled       14  \n",
       "4        52375.0  successful      224  \n",
       "...          ...         ...      ...  \n",
       "323745      25.0    canceled        1  \n",
       "323746     155.0      failed        5  \n",
       "323747      20.0      failed        1  \n",
       "323748     200.0      failed        6  \n",
       "323749     524.0      failed       17  \n",
       "\n",
       "[323750 rows x 7 columns]"
      ]
     },
     "execution_count": 197,
     "metadata": {},
     "output_type": "execute_result"
    }
   ],
   "source": [
    "dataset"
   ]
  },
  {
   "cell_type": "code",
   "execution_count": 198,
   "metadata": {},
   "outputs": [],
   "source": [
    "index = dataset[dataset['deadline '].str.contains(r'[A-Z]')].index  #doesn't work in nan values\n",
    "\n",
    "dataset.drop(index,inplace=True)\n",
    "\n",
    "dataset['deadline ']=pd.to_datetime(dataset['deadline '],yearfirst=True)\n",
    "dataset['launched ']=pd.to_datetime(dataset['launched '],yearfirst=True)"
   ]
  },
  {
   "cell_type": "code",
   "execution_count": 199,
   "metadata": {},
   "outputs": [
    {
     "name": "stdout",
     "output_type": "stream",
     "text": [
      "<class 'pandas.core.frame.DataFrame'>\n",
      "Int64Index: 323118 entries, 0 to 323749\n",
      "Data columns (total 7 columns):\n",
      " #   Column          Non-Null Count   Dtype         \n",
      "---  ------          --------------   -----         \n",
      " 0   main_category   323118 non-null  object        \n",
      " 1   deadline        323118 non-null  datetime64[ns]\n",
      " 2   goal            323118 non-null  float64       \n",
      " 3   launched        323118 non-null  datetime64[ns]\n",
      " 4   pledged         323118 non-null  float64       \n",
      " 5   state           323118 non-null  object        \n",
      " 6   backers         323118 non-null  object        \n",
      "dtypes: datetime64[ns](2), float64(2), object(3)\n",
      "memory usage: 19.7+ MB\n"
     ]
    }
   ],
   "source": [
    "dataset.info()"
   ]
  },
  {
   "cell_type": "code",
   "execution_count": 200,
   "metadata": {},
   "outputs": [
    {
     "data": {
      "text/html": [
       "<div>\n",
       "<style scoped>\n",
       "    .dataframe tbody tr th:only-of-type {\n",
       "        vertical-align: middle;\n",
       "    }\n",
       "\n",
       "    .dataframe tbody tr th {\n",
       "        vertical-align: top;\n",
       "    }\n",
       "\n",
       "    .dataframe thead th {\n",
       "        text-align: right;\n",
       "    }\n",
       "</style>\n",
       "<table border=\"1\" class=\"dataframe\">\n",
       "  <thead>\n",
       "    <tr style=\"text-align: right;\">\n",
       "      <th></th>\n",
       "      <th>main_category</th>\n",
       "      <th>deadline</th>\n",
       "      <th>goal</th>\n",
       "      <th>launched</th>\n",
       "      <th>pledged</th>\n",
       "      <th>state</th>\n",
       "      <th>backers</th>\n",
       "      <th>duration</th>\n",
       "    </tr>\n",
       "  </thead>\n",
       "  <tbody>\n",
       "    <tr>\n",
       "      <th>0</th>\n",
       "      <td>Publishing</td>\n",
       "      <td>2015-10-09 11:36:00</td>\n",
       "      <td>1000.0</td>\n",
       "      <td>2015-08-11 12:12:28</td>\n",
       "      <td>0.0</td>\n",
       "      <td>failed</td>\n",
       "      <td>0</td>\n",
       "      <td>58</td>\n",
       "    </tr>\n",
       "    <tr>\n",
       "      <th>1</th>\n",
       "      <td>Film &amp; Video</td>\n",
       "      <td>2013-02-26 00:20:50</td>\n",
       "      <td>45000.0</td>\n",
       "      <td>2013-01-12 00:20:50</td>\n",
       "      <td>220.0</td>\n",
       "      <td>failed</td>\n",
       "      <td>3</td>\n",
       "      <td>45</td>\n",
       "    </tr>\n",
       "    <tr>\n",
       "      <th>2</th>\n",
       "      <td>Music</td>\n",
       "      <td>2012-04-16 04:24:11</td>\n",
       "      <td>5000.0</td>\n",
       "      <td>2012-03-17 03:24:11</td>\n",
       "      <td>1.0</td>\n",
       "      <td>failed</td>\n",
       "      <td>1</td>\n",
       "      <td>30</td>\n",
       "    </tr>\n",
       "    <tr>\n",
       "      <th>3</th>\n",
       "      <td>Film &amp; Video</td>\n",
       "      <td>2015-08-29 01:00:00</td>\n",
       "      <td>19500.0</td>\n",
       "      <td>2015-07-04 08:35:03</td>\n",
       "      <td>1283.0</td>\n",
       "      <td>canceled</td>\n",
       "      <td>14</td>\n",
       "      <td>55</td>\n",
       "    </tr>\n",
       "    <tr>\n",
       "      <th>4</th>\n",
       "      <td>Food</td>\n",
       "      <td>2016-04-01 13:38:27</td>\n",
       "      <td>50000.0</td>\n",
       "      <td>2016-02-26 13:38:27</td>\n",
       "      <td>52375.0</td>\n",
       "      <td>successful</td>\n",
       "      <td>224</td>\n",
       "      <td>35</td>\n",
       "    </tr>\n",
       "    <tr>\n",
       "      <th>...</th>\n",
       "      <td>...</td>\n",
       "      <td>...</td>\n",
       "      <td>...</td>\n",
       "      <td>...</td>\n",
       "      <td>...</td>\n",
       "      <td>...</td>\n",
       "      <td>...</td>\n",
       "      <td>...</td>\n",
       "    </tr>\n",
       "    <tr>\n",
       "      <th>323745</th>\n",
       "      <td>Film &amp; Video</td>\n",
       "      <td>2014-10-17 02:35:30</td>\n",
       "      <td>50000.0</td>\n",
       "      <td>2014-09-17 02:35:30</td>\n",
       "      <td>25.0</td>\n",
       "      <td>canceled</td>\n",
       "      <td>1</td>\n",
       "      <td>30</td>\n",
       "    </tr>\n",
       "    <tr>\n",
       "      <th>323746</th>\n",
       "      <td>Film &amp; Video</td>\n",
       "      <td>2011-07-19 03:35:14</td>\n",
       "      <td>1500.0</td>\n",
       "      <td>2011-06-22 03:35:14</td>\n",
       "      <td>155.0</td>\n",
       "      <td>failed</td>\n",
       "      <td>5</td>\n",
       "      <td>27</td>\n",
       "    </tr>\n",
       "    <tr>\n",
       "      <th>323747</th>\n",
       "      <td>Film &amp; Video</td>\n",
       "      <td>2010-08-16 05:59:00</td>\n",
       "      <td>15000.0</td>\n",
       "      <td>2010-07-01 19:40:30</td>\n",
       "      <td>20.0</td>\n",
       "      <td>failed</td>\n",
       "      <td>1</td>\n",
       "      <td>45</td>\n",
       "    </tr>\n",
       "    <tr>\n",
       "      <th>323748</th>\n",
       "      <td>Technology</td>\n",
       "      <td>2016-02-13 02:00:00</td>\n",
       "      <td>15000.0</td>\n",
       "      <td>2016-01-13 18:13:53</td>\n",
       "      <td>200.0</td>\n",
       "      <td>failed</td>\n",
       "      <td>6</td>\n",
       "      <td>30</td>\n",
       "    </tr>\n",
       "    <tr>\n",
       "      <th>323749</th>\n",
       "      <td>Art</td>\n",
       "      <td>2011-08-16 09:07:47</td>\n",
       "      <td>2000.0</td>\n",
       "      <td>2011-07-19 09:07:47</td>\n",
       "      <td>524.0</td>\n",
       "      <td>failed</td>\n",
       "      <td>17</td>\n",
       "      <td>28</td>\n",
       "    </tr>\n",
       "  </tbody>\n",
       "</table>\n",
       "<p>323118 rows × 8 columns</p>\n",
       "</div>"
      ],
      "text/plain": [
       "       main_category            deadline     goal            launched   \\\n",
       "0          Publishing 2015-10-09 11:36:00   1000.0 2015-08-11 12:12:28   \n",
       "1        Film & Video 2013-02-26 00:20:50  45000.0 2013-01-12 00:20:50   \n",
       "2               Music 2012-04-16 04:24:11   5000.0 2012-03-17 03:24:11   \n",
       "3        Film & Video 2015-08-29 01:00:00  19500.0 2015-07-04 08:35:03   \n",
       "4                Food 2016-04-01 13:38:27  50000.0 2016-02-26 13:38:27   \n",
       "...               ...                 ...      ...                 ...   \n",
       "323745   Film & Video 2014-10-17 02:35:30  50000.0 2014-09-17 02:35:30   \n",
       "323746   Film & Video 2011-07-19 03:35:14   1500.0 2011-06-22 03:35:14   \n",
       "323747   Film & Video 2010-08-16 05:59:00  15000.0 2010-07-01 19:40:30   \n",
       "323748     Technology 2016-02-13 02:00:00  15000.0 2016-01-13 18:13:53   \n",
       "323749            Art 2011-08-16 09:07:47   2000.0 2011-07-19 09:07:47   \n",
       "\n",
       "        pledged       state  backers   duration  \n",
       "0            0.0      failed        0        58  \n",
       "1          220.0      failed        3        45  \n",
       "2            1.0      failed        1        30  \n",
       "3         1283.0    canceled       14        55  \n",
       "4        52375.0  successful      224        35  \n",
       "...          ...         ...      ...       ...  \n",
       "323745      25.0    canceled        1        30  \n",
       "323746     155.0      failed        5        27  \n",
       "323747      20.0      failed        1        45  \n",
       "323748     200.0      failed        6        30  \n",
       "323749     524.0      failed       17        28  \n",
       "\n",
       "[323118 rows x 8 columns]"
      ]
     },
     "execution_count": 200,
     "metadata": {},
     "output_type": "execute_result"
    }
   ],
   "source": [
    "dataset['duration']=dataset['deadline ']-dataset['launched ']\n",
    "\n",
    "dataset['duration'] = dataset['duration'].apply(lambda x : x.days)\n",
    "\n",
    "dataset"
   ]
  },
  {
   "cell_type": "code",
   "execution_count": 201,
   "metadata": {},
   "outputs": [],
   "source": [
    "dataset['Y']=0\n",
    "dataset.loc[(dataset['pledged ']>=dataset['goal ']),'Y']=1"
   ]
  },
  {
   "cell_type": "code",
   "execution_count": 202,
   "metadata": {},
   "outputs": [],
   "source": [
    "#dataset.drop(['pledged ','state ','backers '],axis=1,inplace=True)"
   ]
  },
  {
   "cell_type": "code",
   "execution_count": 203,
   "metadata": {},
   "outputs": [
    {
     "data": {
      "text/html": [
       "<div>\n",
       "<style scoped>\n",
       "    .dataframe tbody tr th:only-of-type {\n",
       "        vertical-align: middle;\n",
       "    }\n",
       "\n",
       "    .dataframe tbody tr th {\n",
       "        vertical-align: top;\n",
       "    }\n",
       "\n",
       "    .dataframe thead th {\n",
       "        text-align: right;\n",
       "    }\n",
       "</style>\n",
       "<table border=\"1\" class=\"dataframe\">\n",
       "  <thead>\n",
       "    <tr style=\"text-align: right;\">\n",
       "      <th></th>\n",
       "      <th>goal</th>\n",
       "      <th>pledged</th>\n",
       "      <th>duration</th>\n",
       "      <th>Y</th>\n",
       "    </tr>\n",
       "  </thead>\n",
       "  <tbody>\n",
       "    <tr>\n",
       "      <th>goal</th>\n",
       "      <td>1.000000</td>\n",
       "      <td>-0.000074</td>\n",
       "      <td>0.002519</td>\n",
       "      <td>-0.003360</td>\n",
       "    </tr>\n",
       "    <tr>\n",
       "      <th>pledged</th>\n",
       "      <td>-0.000074</td>\n",
       "      <td>1.000000</td>\n",
       "      <td>0.000342</td>\n",
       "      <td>0.055144</td>\n",
       "    </tr>\n",
       "    <tr>\n",
       "      <th>duration</th>\n",
       "      <td>0.002519</td>\n",
       "      <td>0.000342</td>\n",
       "      <td>1.000000</td>\n",
       "      <td>-0.023802</td>\n",
       "    </tr>\n",
       "    <tr>\n",
       "      <th>Y</th>\n",
       "      <td>-0.003360</td>\n",
       "      <td>0.055144</td>\n",
       "      <td>-0.023802</td>\n",
       "      <td>1.000000</td>\n",
       "    </tr>\n",
       "  </tbody>\n",
       "</table>\n",
       "</div>"
      ],
      "text/plain": [
       "             goal   pledged   duration         Y\n",
       "goal      1.000000 -0.000074  0.002519 -0.003360\n",
       "pledged  -0.000074  1.000000  0.000342  0.055144\n",
       "duration  0.002519  0.000342  1.000000 -0.023802\n",
       "Y        -0.003360  0.055144 -0.023802  1.000000"
      ]
     },
     "execution_count": 203,
     "metadata": {},
     "output_type": "execute_result"
    }
   ],
   "source": [
    "dataset.corr()"
   ]
  },
  {
   "cell_type": "code",
   "execution_count": 204,
   "metadata": {},
   "outputs": [
    {
     "data": {
      "text/html": [
       "<div>\n",
       "<style scoped>\n",
       "    .dataframe tbody tr th:only-of-type {\n",
       "        vertical-align: middle;\n",
       "    }\n",
       "\n",
       "    .dataframe tbody tr th {\n",
       "        vertical-align: top;\n",
       "    }\n",
       "\n",
       "    .dataframe thead th {\n",
       "        text-align: right;\n",
       "    }\n",
       "</style>\n",
       "<table border=\"1\" class=\"dataframe\">\n",
       "  <thead>\n",
       "    <tr style=\"text-align: right;\">\n",
       "      <th></th>\n",
       "      <th>main_category</th>\n",
       "      <th>duration</th>\n",
       "      <th>backers</th>\n",
       "      <th>goal</th>\n",
       "    </tr>\n",
       "  </thead>\n",
       "  <tbody>\n",
       "    <tr>\n",
       "      <th>0</th>\n",
       "      <td>Publishing</td>\n",
       "      <td>58</td>\n",
       "      <td>0</td>\n",
       "      <td>1000.0</td>\n",
       "    </tr>\n",
       "    <tr>\n",
       "      <th>1</th>\n",
       "      <td>Film &amp; Video</td>\n",
       "      <td>45</td>\n",
       "      <td>3</td>\n",
       "      <td>45000.0</td>\n",
       "    </tr>\n",
       "    <tr>\n",
       "      <th>2</th>\n",
       "      <td>Music</td>\n",
       "      <td>30</td>\n",
       "      <td>1</td>\n",
       "      <td>5000.0</td>\n",
       "    </tr>\n",
       "    <tr>\n",
       "      <th>3</th>\n",
       "      <td>Film &amp; Video</td>\n",
       "      <td>55</td>\n",
       "      <td>14</td>\n",
       "      <td>19500.0</td>\n",
       "    </tr>\n",
       "    <tr>\n",
       "      <th>4</th>\n",
       "      <td>Food</td>\n",
       "      <td>35</td>\n",
       "      <td>224</td>\n",
       "      <td>50000.0</td>\n",
       "    </tr>\n",
       "    <tr>\n",
       "      <th>...</th>\n",
       "      <td>...</td>\n",
       "      <td>...</td>\n",
       "      <td>...</td>\n",
       "      <td>...</td>\n",
       "    </tr>\n",
       "    <tr>\n",
       "      <th>323745</th>\n",
       "      <td>Film &amp; Video</td>\n",
       "      <td>30</td>\n",
       "      <td>1</td>\n",
       "      <td>50000.0</td>\n",
       "    </tr>\n",
       "    <tr>\n",
       "      <th>323746</th>\n",
       "      <td>Film &amp; Video</td>\n",
       "      <td>27</td>\n",
       "      <td>5</td>\n",
       "      <td>1500.0</td>\n",
       "    </tr>\n",
       "    <tr>\n",
       "      <th>323747</th>\n",
       "      <td>Film &amp; Video</td>\n",
       "      <td>45</td>\n",
       "      <td>1</td>\n",
       "      <td>15000.0</td>\n",
       "    </tr>\n",
       "    <tr>\n",
       "      <th>323748</th>\n",
       "      <td>Technology</td>\n",
       "      <td>30</td>\n",
       "      <td>6</td>\n",
       "      <td>15000.0</td>\n",
       "    </tr>\n",
       "    <tr>\n",
       "      <th>323749</th>\n",
       "      <td>Art</td>\n",
       "      <td>28</td>\n",
       "      <td>17</td>\n",
       "      <td>2000.0</td>\n",
       "    </tr>\n",
       "  </tbody>\n",
       "</table>\n",
       "<p>323118 rows × 4 columns</p>\n",
       "</div>"
      ],
      "text/plain": [
       "       main_category   duration backers     goal \n",
       "0          Publishing        58        0   1000.0\n",
       "1        Film & Video        45        3  45000.0\n",
       "2               Music        30        1   5000.0\n",
       "3        Film & Video        55       14  19500.0\n",
       "4                Food        35      224  50000.0\n",
       "...               ...       ...      ...      ...\n",
       "323745   Film & Video        30        1  50000.0\n",
       "323746   Film & Video        27        5   1500.0\n",
       "323747   Film & Video        45        1  15000.0\n",
       "323748     Technology        30        6  15000.0\n",
       "323749            Art        28       17   2000.0\n",
       "\n",
       "[323118 rows x 4 columns]"
      ]
     },
     "execution_count": 204,
     "metadata": {},
     "output_type": "execute_result"
    }
   ],
   "source": [
    "X = dataset[['main_category ', 'duration', 'backers ', 'goal ']]\n",
    "Y = dataset['Y']\n",
    "X\n"
   ]
  },
  {
   "cell_type": "code",
   "execution_count": 205,
   "metadata": {},
   "outputs": [
    {
     "data": {
      "text/plain": [
       "<matplotlib.axes._subplots.AxesSubplot at 0x7f8a34e46e90>"
      ]
     },
     "execution_count": 205,
     "metadata": {},
     "output_type": "execute_result"
    },
    {
     "data": {
      "image/png": "[encoded data removed]",
      "text/plain": [
       "<Figure size 432x288 with 1 Axes>"
      ]
     },
     "metadata": {},
     "output_type": "display_data"
    }
   ],
   "source": [
    "Y.value_counts().plot(kind='pie')"
   ]
  },
  {
   "cell_type": "code",
   "execution_count": 208,
   "metadata": {},
   "outputs": [
    {
     "name": "stderr",
     "output_type": "stream",
     "text": [
      "/home/mohamedalgebali/anaconda3/lib/python3.7/site-packages/ipykernel_launcher.py:3: SettingWithCopyWarning: \n",
      "A value is trying to be set on a copy of a slice from a DataFrame.\n",
      "Try using .loc[row_indexer,col_indexer] = value instead\n",
      "\n",
      "See the caveats in the documentation: https://pandas.pydata.org/pandas-docs/stable/user_guide/indexing.html#returning-a-view-versus-a-copy\n",
      "  This is separate from the ipykernel package so we can avoid doing imports until\n"
     ]
    }
   ],
   "source": [
    "from sklearn.preprocessing import LabelEncoder , OneHotEncoder\n",
    "le = LabelEncoder()\n",
    "X['main_category '] = le.fit_transform(X['main_category '])\n"
   ]
  },
  {
   "cell_type": "code",
   "execution_count": 209,
   "metadata": {},
   "outputs": [
    {
     "data": {
      "text/html": [
       "<div>\n",
       "<style scoped>\n",
       "    .dataframe tbody tr th:only-of-type {\n",
       "        vertical-align: middle;\n",
       "    }\n",
       "\n",
       "    .dataframe tbody tr th {\n",
       "        vertical-align: top;\n",
       "    }\n",
       "\n",
       "    .dataframe thead th {\n",
       "        text-align: right;\n",
       "    }\n",
       "</style>\n",
       "<table border=\"1\" class=\"dataframe\">\n",
       "  <thead>\n",
       "    <tr style=\"text-align: right;\">\n",
       "      <th></th>\n",
       "      <th>main_category</th>\n",
       "      <th>duration</th>\n",
       "      <th>backers</th>\n",
       "      <th>goal</th>\n",
       "    </tr>\n",
       "  </thead>\n",
       "  <tbody>\n",
       "    <tr>\n",
       "      <th>0</th>\n",
       "      <td>12</td>\n",
       "      <td>58</td>\n",
       "      <td>0</td>\n",
       "      <td>1000.0</td>\n",
       "    </tr>\n",
       "    <tr>\n",
       "      <th>1</th>\n",
       "      <td>6</td>\n",
       "      <td>45</td>\n",
       "      <td>3</td>\n",
       "      <td>45000.0</td>\n",
       "    </tr>\n",
       "    <tr>\n",
       "      <th>2</th>\n",
       "      <td>10</td>\n",
       "      <td>30</td>\n",
       "      <td>1</td>\n",
       "      <td>5000.0</td>\n",
       "    </tr>\n",
       "    <tr>\n",
       "      <th>3</th>\n",
       "      <td>6</td>\n",
       "      <td>55</td>\n",
       "      <td>14</td>\n",
       "      <td>19500.0</td>\n",
       "    </tr>\n",
       "    <tr>\n",
       "      <th>4</th>\n",
       "      <td>7</td>\n",
       "      <td>35</td>\n",
       "      <td>224</td>\n",
       "      <td>50000.0</td>\n",
       "    </tr>\n",
       "    <tr>\n",
       "      <th>...</th>\n",
       "      <td>...</td>\n",
       "      <td>...</td>\n",
       "      <td>...</td>\n",
       "      <td>...</td>\n",
       "    </tr>\n",
       "    <tr>\n",
       "      <th>323745</th>\n",
       "      <td>6</td>\n",
       "      <td>30</td>\n",
       "      <td>1</td>\n",
       "      <td>50000.0</td>\n",
       "    </tr>\n",
       "    <tr>\n",
       "      <th>323746</th>\n",
       "      <td>6</td>\n",
       "      <td>27</td>\n",
       "      <td>5</td>\n",
       "      <td>1500.0</td>\n",
       "    </tr>\n",
       "    <tr>\n",
       "      <th>323747</th>\n",
       "      <td>6</td>\n",
       "      <td>45</td>\n",
       "      <td>1</td>\n",
       "      <td>15000.0</td>\n",
       "    </tr>\n",
       "    <tr>\n",
       "      <th>323748</th>\n",
       "      <td>13</td>\n",
       "      <td>30</td>\n",
       "      <td>6</td>\n",
       "      <td>15000.0</td>\n",
       "    </tr>\n",
       "    <tr>\n",
       "      <th>323749</th>\n",
       "      <td>0</td>\n",
       "      <td>28</td>\n",
       "      <td>17</td>\n",
       "      <td>2000.0</td>\n",
       "    </tr>\n",
       "  </tbody>\n",
       "</table>\n",
       "<p>323118 rows × 4 columns</p>\n",
       "</div>"
      ],
      "text/plain": [
       "        main_category   duration backers     goal \n",
       "0                   12        58        0   1000.0\n",
       "1                    6        45        3  45000.0\n",
       "2                   10        30        1   5000.0\n",
       "3                    6        55       14  19500.0\n",
       "4                    7        35      224  50000.0\n",
       "...                ...       ...      ...      ...\n",
       "323745               6        30        1  50000.0\n",
       "323746               6        27        5   1500.0\n",
       "323747               6        45        1  15000.0\n",
       "323748              13        30        6  15000.0\n",
       "323749               0        28       17   2000.0\n",
       "\n",
       "[323118 rows x 4 columns]"
      ]
     },
     "execution_count": 209,
     "metadata": {},
     "output_type": "execute_result"
    }
   ],
   "source": [
    "X"
   ]
  },
  {
   "cell_type": "code",
   "execution_count": 211,
   "metadata": {},
   "outputs": [
    {
     "data": {
      "text/plain": [
       "array([6])"
      ]
     },
     "execution_count": 211,
     "metadata": {},
     "output_type": "execute_result"
    }
   ],
   "source": [
    "le.transform(['Film & Video'])"
   ]
  },
  {
   "cell_type": "code",
   "execution_count": 168,
   "metadata": {},
   "outputs": [
    {
     "name": "stderr",
     "output_type": "stream",
     "text": [
      "/home/mohamedalgebali/anaconda3/lib/python3.7/site-packages/ipykernel_launcher.py:1: SettingWithCopyWarning: \n",
      "A value is trying to be set on a copy of a slice from a DataFrame.\n",
      "Try using .loc[row_indexer,col_indexer] = value instead\n",
      "\n",
      "See the caveats in the documentation: https://pandas.pydata.org/pandas-docs/stable/user_guide/indexing.html#returning-a-view-versus-a-copy\n",
      "  \"\"\"Entry point for launching an IPython kernel.\n"
     ]
    }
   ],
   "source": [
    "X['backers '] = X['backers '].astype(float)"
   ]
  },
  {
   "cell_type": "code",
   "execution_count": 113,
   "metadata": {},
   "outputs": [
    {
     "name": "stdout",
     "output_type": "stream",
     "text": [
      "<class 'pandas.core.frame.DataFrame'>\n",
      "Int64Index: 323118 entries, 0 to 323749\n",
      "Data columns (total 4 columns):\n",
      " #   Column          Non-Null Count   Dtype  \n",
      "---  ------          --------------   -----  \n",
      " 0   main_category   323118 non-null  int64  \n",
      " 1   duration        323118 non-null  int64  \n",
      " 2   backers         323118 non-null  float64\n",
      " 3   goal            323118 non-null  float64\n",
      "dtypes: float64(2), int64(2)\n",
      "memory usage: 12.3 MB\n"
     ]
    }
   ],
   "source": [
    "X.info()"
   ]
  },
  {
   "cell_type": "code",
   "execution_count": 114,
   "metadata": {},
   "outputs": [
    {
     "name": "stdout",
     "output_type": "stream",
     "text": [
      "<class 'pandas.core.frame.DataFrame'>\n",
      "Int64Index: 323118 entries, 0 to 323749\n",
      "Data columns (total 4 columns):\n",
      " #   Column          Non-Null Count   Dtype  \n",
      "---  ------          --------------   -----  \n",
      " 0   main_category   323118 non-null  int64  \n",
      " 1   duration        323118 non-null  int64  \n",
      " 2   backers         323118 non-null  float64\n",
      " 3   goal            323118 non-null  float64\n",
      "dtypes: float64(2), int64(2)\n",
      "memory usage: 12.3 MB\n"
     ]
    }
   ],
   "source": [
    "X.info()"
   ]
  },
  {
   "cell_type": "code",
   "execution_count": 115,
   "metadata": {},
   "outputs": [
    {
     "data": {
      "text/plain": [
       "0         0\n",
       "1         0\n",
       "2         0\n",
       "3         0\n",
       "4         1\n",
       "         ..\n",
       "323745    0\n",
       "323746    0\n",
       "323747    0\n",
       "323748    0\n",
       "323749    0\n",
       "Name: Y, Length: 323118, dtype: int64"
      ]
     },
     "execution_count": 115,
     "metadata": {},
     "output_type": "execute_result"
    }
   ],
   "source": [
    "Y"
   ]
  },
  {
   "cell_type": "code",
   "execution_count": 116,
   "metadata": {},
   "outputs": [],
   "source": [
    "from sklearn.model_selection import train_test_split\n",
    "x_train, x_test, y_train, y_test = train_test_split(X, Y, test_size = 0.1)"
   ]
  },
  {
   "cell_type": "code",
   "execution_count": 117,
   "metadata": {},
   "outputs": [],
   "source": [
    "from sklearn.neighbors import KNeighborsClassifier\n",
    "from sklearn.linear_model import LogisticRegression\n",
    "from sklearn.svm import SVC\n",
    "from sklearn.linear_model import SGDClassifier"
   ]
  },
  {
   "cell_type": "code",
   "execution_count": 118,
   "metadata": {},
   "outputs": [
    {
     "data": {
      "text/plain": [
       "0.633670099573637"
      ]
     },
     "execution_count": 118,
     "metadata": {},
     "output_type": "execute_result"
    }
   ],
   "source": [
    "from sklearn.model_selection import cross_val_score\n",
    "clf = SGDClassifier(penalty='l1')\n",
    "accur = cross_val_score(clf,X=x_train,y=y_train,cv=3)\n",
    "accur.mean()"
   ]
  },
  {
   "cell_type": "code",
   "execution_count": 120,
   "metadata": {},
   "outputs": [
    {
     "data": {
      "text/plain": [
       "SGDClassifier(alpha=0.0001, average=False, class_weight=None,\n",
       "              early_stopping=False, epsilon=0.1, eta0=0.0, fit_intercept=True,\n",
       "              l1_ratio=0.15, learning_rate='optimal', loss='hinge',\n",
       "              max_iter=1000, n_iter_no_change=5, n_jobs=None, penalty='l1',\n",
       "              power_t=0.5, random_state=None, shuffle=True, tol=0.001,\n",
       "              validation_fraction=0.1, verbose=0, warm_start=False)"
      ]
     },
     "execution_count": 120,
     "metadata": {},
     "output_type": "execute_result"
    }
   ],
   "source": [
    "clf.fit(x_train,y_train)"
   ]
  },
  {
   "cell_type": "code",
   "execution_count": 121,
   "metadata": {},
   "outputs": [
    {
     "name": "stdout",
     "output_type": "stream",
     "text": [
      "              precision    recall  f1-score   support\n",
      "\n",
      "           0       0.62      1.00      0.77     20133\n",
      "           1       1.00      0.00      0.00     12179\n",
      "\n",
      "    accuracy                           0.62     32312\n",
      "   macro avg       0.81      0.50      0.38     32312\n",
      "weighted avg       0.77      0.62      0.48     32312\n",
      "\n"
     ]
    }
   ],
   "source": [
    "from sklearn.metrics import confusion_matrix\n",
    "from sklearn.metrics import classification_report\n",
    "y_pred = clf.predict(x_test)\n",
    "print(classification_report(y_test,y_pred))"
   ]
  },
  {
   "cell_type": "code",
   "execution_count": 122,
   "metadata": {},
   "outputs": [
    {
     "data": {
      "text/plain": [
       "0.8557192374350087"
      ]
     },
     "execution_count": 122,
     "metadata": {},
     "output_type": "execute_result"
    }
   ],
   "source": [
    "lr = LogisticRegression(class_weight='balanced')\n",
    "lr.fit(x_train,y_train)\n",
    "lr.score(x_test,y_test)"
   ]
  },
  {
   "cell_type": "code",
   "execution_count": 123,
   "metadata": {},
   "outputs": [
    {
     "name": "stdout",
     "output_type": "stream",
     "text": [
      "              precision    recall  f1-score   support\n",
      "\n",
      "           0       0.86      0.91      0.89     20133\n",
      "           1       0.84      0.76      0.80     12179\n",
      "\n",
      "    accuracy                           0.86     32312\n",
      "   macro avg       0.85      0.84      0.84     32312\n",
      "weighted avg       0.85      0.86      0.85     32312\n",
      "\n"
     ]
    }
   ],
   "source": [
    "y_pred = lr.predict(x_test)\n",
    "print(classification_report(y_test,y_pred))"
   ]
  },
  {
   "cell_type": "code",
   "execution_count": 124,
   "metadata": {},
   "outputs": [
    {
     "name": "stdout",
     "output_type": "stream",
     "text": [
      "              precision    recall  f1-score   support\n",
      "\n",
      "           0       0.92      0.93      0.92     20133\n",
      "           1       0.89      0.86      0.87     12179\n",
      "\n",
      "    accuracy                           0.91     32312\n",
      "   macro avg       0.90      0.90      0.90     32312\n",
      "weighted avg       0.91      0.91      0.91     32312\n",
      "\n"
     ]
    },
    {
     "data": {
      "text/html": [
       "<div>\n",
       "<style scoped>\n",
       "    .dataframe tbody tr th:only-of-type {\n",
       "        vertical-align: middle;\n",
       "    }\n",
       "\n",
       "    .dataframe tbody tr th {\n",
       "        vertical-align: top;\n",
       "    }\n",
       "\n",
       "    .dataframe thead th {\n",
       "        text-align: right;\n",
       "    }\n",
       "</style>\n",
       "<table border=\"1\" class=\"dataframe\">\n",
       "  <thead>\n",
       "    <tr style=\"text-align: right;\">\n",
       "      <th></th>\n",
       "      <th>0</th>\n",
       "      <th>1</th>\n",
       "    </tr>\n",
       "  </thead>\n",
       "  <tbody>\n",
       "    <tr>\n",
       "      <th>0</th>\n",
       "      <td>18813</td>\n",
       "      <td>1320</td>\n",
       "    </tr>\n",
       "    <tr>\n",
       "      <th>1</th>\n",
       "      <td>1731</td>\n",
       "      <td>10448</td>\n",
       "    </tr>\n",
       "  </tbody>\n",
       "</table>\n",
       "</div>"
      ],
      "text/plain": [
       "       0      1\n",
       "0  18813   1320\n",
       "1   1731  10448"
      ]
     },
     "execution_count": 124,
     "metadata": {},
     "output_type": "execute_result"
    }
   ],
   "source": [
    "knn = KNeighborsClassifier(n_neighbors= 7, p= 1, weights= 'distance')\n",
    "knn.fit(x_train,y_train)\n",
    "\n",
    "y_pred = knn.predict(x_test)\n",
    "print(classification_report(y_test,y_pred))\n",
    "\n",
    "cm = confusion_matrix(y_test, knn.predict(x_test))\n",
    "pd.DataFrame(cm)"
   ]
  },
  {
   "cell_type": "code",
   "execution_count": 125,
   "metadata": {},
   "outputs": [
    {
     "name": "stdout",
     "output_type": "stream",
     "text": [
      "              precision    recall  f1-score   support\n",
      "\n",
      "           0       0.92      0.94      0.93     20133\n",
      "           1       0.89      0.87      0.88     12179\n",
      "\n",
      "    accuracy                           0.91     32312\n",
      "   macro avg       0.91      0.90      0.90     32312\n",
      "weighted avg       0.91      0.91      0.91     32312\n",
      "\n"
     ]
    },
    {
     "data": {
      "text/html": [
       "<div>\n",
       "<style scoped>\n",
       "    .dataframe tbody tr th:only-of-type {\n",
       "        vertical-align: middle;\n",
       "    }\n",
       "\n",
       "    .dataframe tbody tr th {\n",
       "        vertical-align: top;\n",
       "    }\n",
       "\n",
       "    .dataframe thead th {\n",
       "        text-align: right;\n",
       "    }\n",
       "</style>\n",
       "<table border=\"1\" class=\"dataframe\">\n",
       "  <thead>\n",
       "    <tr style=\"text-align: right;\">\n",
       "      <th></th>\n",
       "      <th>0</th>\n",
       "      <th>1</th>\n",
       "    </tr>\n",
       "  </thead>\n",
       "  <tbody>\n",
       "    <tr>\n",
       "      <th>0</th>\n",
       "      <td>18859</td>\n",
       "      <td>1274</td>\n",
       "    </tr>\n",
       "    <tr>\n",
       "      <th>1</th>\n",
       "      <td>1624</td>\n",
       "      <td>10555</td>\n",
       "    </tr>\n",
       "  </tbody>\n",
       "</table>\n",
       "</div>"
      ],
      "text/plain": [
       "       0      1\n",
       "0  18859   1274\n",
       "1   1624  10555"
      ]
     },
     "execution_count": 125,
     "metadata": {},
     "output_type": "execute_result"
    }
   ],
   "source": [
    "from sklearn.ensemble import RandomForestClassifier\n",
    "rf = RandomForestClassifier()\n",
    "rf.fit(x_train,y_train)\n",
    "print(classification_report(y_test,rf.predict(x_test)))\n",
    "cm = confusion_matrix(y_test, rf.predict(x_test))\n",
    "pd.DataFrame(cm)"
   ]
  },
  {
   "cell_type": "code",
   "execution_count": 126,
   "metadata": {},
   "outputs": [
    {
     "name": "stdout",
     "output_type": "stream",
     "text": [
      "              precision    recall  f1-score   support\n",
      "\n",
      "           0       0.93      0.94      0.94     20133\n",
      "           1       0.91      0.89      0.90     12179\n",
      "\n",
      "    accuracy                           0.92     32312\n",
      "   macro avg       0.92      0.92      0.92     32312\n",
      "weighted avg       0.92      0.92      0.92     32312\n",
      "\n"
     ]
    },
    {
     "data": {
      "text/html": [
       "<div>\n",
       "<style scoped>\n",
       "    .dataframe tbody tr th:only-of-type {\n",
       "        vertical-align: middle;\n",
       "    }\n",
       "\n",
       "    .dataframe tbody tr th {\n",
       "        vertical-align: top;\n",
       "    }\n",
       "\n",
       "    .dataframe thead th {\n",
       "        text-align: right;\n",
       "    }\n",
       "</style>\n",
       "<table border=\"1\" class=\"dataframe\">\n",
       "  <thead>\n",
       "    <tr style=\"text-align: right;\">\n",
       "      <th></th>\n",
       "      <th>0</th>\n",
       "      <th>1</th>\n",
       "    </tr>\n",
       "  </thead>\n",
       "  <tbody>\n",
       "    <tr>\n",
       "      <th>0</th>\n",
       "      <td>19003</td>\n",
       "      <td>1130</td>\n",
       "    </tr>\n",
       "    <tr>\n",
       "      <th>1</th>\n",
       "      <td>1386</td>\n",
       "      <td>10793</td>\n",
       "    </tr>\n",
       "  </tbody>\n",
       "</table>\n",
       "</div>"
      ],
      "text/plain": [
       "       0      1\n",
       "0  19003   1130\n",
       "1   1386  10793"
      ]
     },
     "execution_count": 126,
     "metadata": {},
     "output_type": "execute_result"
    }
   ],
   "source": [
    "from xgboost import XGBClassifier\n",
    "xgb = XGBClassifier()\n",
    "xgb.fit(x_train,y_train)\n",
    "print(classification_report(y_test,xgb.predict(x_test)))\n",
    "cm = confusion_matrix(y_test, xgb.predict(x_test))\n",
    "pd.DataFrame(cm)"
   ]
  },
  {
   "cell_type": "markdown",
   "metadata": {},
   "source": [
    "## It's obvoius that XGBoost is the best one"
   ]
  },
  {
   "cell_type": "code",
   "execution_count": 217,
   "metadata": {},
   "outputs": [],
   "source": [
    "import numpy as np\n",
    "def test(test_input):\n",
    "    '''Enter ['main_category', 'duration', 'backers', 'goal']\n",
    "        of your startup'''\n",
    "    i = le.transform([test_input[0]])\n",
    "    test_input[0] = int(i)\n",
    "    test_input = np.array(test_input).reshape(1,-1)\n",
    "    return rf.predict(test_input)"
   ]
  },
  {
   "cell_type": "code",
   "execution_count": 226,
   "metadata": {},
   "outputs": [
    {
     "data": {
      "text/plain": [
       "array([0])"
      ]
     },
     "execution_count": 226,
     "metadata": {},
     "output_type": "execute_result"
    }
   ],
   "source": [
    "test(['Publishing',1200,20,500000])"
   ]
  },
  {
   "cell_type": "code",
   "execution_count": null,
   "metadata": {},
   "outputs": [],
   "source": []
  }
 ],
 "metadata": {
  "kernelspec": {
   "display_name": "Python 3",
   "language": "python",
   "name": "python3"
  },
  "language_info": {
   "codemirror_mode": {
    "name": "ipython",
    "version": 3
   },
   "file_extension": ".py",
   "mimetype": "text/x-python",
   "name": "python",
   "nbconvert_exporter": "python",
   "pygments_lexer": "ipython3",
   "version": "3.7.6"
  }
 },
 "nbformat": 4,
 "nbformat_minor": 4
}
